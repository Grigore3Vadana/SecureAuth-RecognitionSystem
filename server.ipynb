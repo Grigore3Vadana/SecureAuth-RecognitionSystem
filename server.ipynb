{
 "cells": [
  {
   "cell_type": "code",
   "execution_count": null,
   "id": "9e612900-5e7c-44c8-9711-13636074f602",
   "metadata": {},
   "outputs": [
    {
     "name": "stdout",
     "output_type": "stream",
     "text": [
      "Serverul ascultă pe 127.0.0.1:65432...\n"
     ]
    }
   ],
   "source": [
    "# Vadana Ioan-Grigore\n",
    "# 334AA\n",
    "import socket\n",
    "import threading\n",
    "\n",
    "server_ip = '127.0.0.1'\n",
    "server_port = 65432\n",
    "\n",
    "def handle_client(conn, addr):\n",
    "    print(f\"Conexiune de la {addr}\")\n",
    "    try:\n",
    "        while True:\n",
    "            data = conn.recv(1024)\n",
    "            if not data:\n",
    "                break\n",
    "            print('Received', data.decode('utf-8'))\n",
    "            conn.sendall(b'Mesajul a fost primit')\n",
    "    except Exception as e:\n",
    "        print(f\"Eroare în comunicare cu {addr}: {e}\")\n",
    "    finally:\n",
    "        conn.close()\n",
    "        print(f\"Conexiune închisă pentru {addr}\")\n",
    "\n",
    "def start_server():\n",
    "    with socket.socket(socket.AF_INET, socket.SOCK_STREAM) as s:\n",
    "        s.bind((server_ip, server_port))\n",
    "        s.listen()\n",
    "        print(f\"Serverul ascultă pe {server_ip}:{server_port}...\")\n",
    "        while True:\n",
    "            conn, addr = s.accept()\n",
    "            client_thread = threading.Thread(target=handle_client, args=(conn, addr))\n",
    "            client_thread.start()\n",
    "            print(f\"Numărul de conexiuni active: {threading.active_count() - 1}\")\n",
    "\n",
    "if __name__ == \"__main__\":\n",
    "    start_server()"
   ]
  },
  {
   "cell_type": "code",
   "execution_count": null,
   "id": "32f639d9-36d4-4e09-b860-e4d6cb90577d",
   "metadata": {},
   "outputs": [],
   "source": []
  }
 ],
 "metadata": {
  "kernelspec": {
   "display_name": "Python 3 (ipykernel)",
   "language": "python",
   "name": "python3"
  },
  "language_info": {
   "codemirror_mode": {
    "name": "ipython",
    "version": 3
   },
   "file_extension": ".py",
   "mimetype": "text/x-python",
   "name": "python",
   "nbconvert_exporter": "python",
   "pygments_lexer": "ipython3",
   "version": "3.10.2"
  }
 },
 "nbformat": 4,
 "nbformat_minor": 5
}
