{
 "cells": [
  {
   "cell_type": "code",
   "execution_count": 1,
   "id": "e48f2f33-e4a3-4fc8-92a6-ec9edeed600a",
   "metadata": {},
   "outputs": [
    {
     "name": "stdout",
     "output_type": "stream",
     "text": [
      "Fișierul parole.txt a fost generat cu succes.\n"
     ]
    }
   ],
   "source": [
    "# Lista utilizatorilor și parolelor\n",
    "users_passwords = [\n",
    "    {\"nume\": \"John\", \"prenume\": \"Doe\", \"parola\": \"password123\"},\n",
    "    {\"nume\": \"Jane\", \"prenume\": \"Smith\", \"parola\": \"securepassword456\"},\n",
    "    {\"nume\": \"Alice\", \"prenume\": \"Johnson\", \"parola\": \"anotherpassword789\"},\n",
    "    {\"nume\": \"Bob\", \"prenume\": \"Brown\", \"parola\": \"passwordabc\"},\n",
    "    {\"nume\": \"Charlie\", \"prenume\": \"White\", \"parola\": \"passwordxyz\"}\n",
    "]\n",
    "\n",
    "# Salvăm datele în fișierul parole.txt\n",
    "with open('parole.txt', 'w') as f:\n",
    "    for user in users_passwords:\n",
    "        f.write(f\"{user['nume']},{user['prenume']},{user['parola']}\\n\")\n",
    "\n",
    "print(\"Fișierul parole.txt a fost generat cu succes.\")"
   ]
  },
  {
   "cell_type": "code",
   "execution_count": null,
   "id": "e0eb13a6-5968-4e72-bdd9-fcfe28063526",
   "metadata": {},
   "outputs": [],
   "source": []
  }
 ],
 "metadata": {
  "kernelspec": {
   "display_name": "Python 3 (ipykernel)",
   "language": "python",
   "name": "python3"
  },
  "language_info": {
   "codemirror_mode": {
    "name": "ipython",
    "version": 3
   },
   "file_extension": ".py",
   "mimetype": "text/x-python",
   "name": "python",
   "nbconvert_exporter": "python",
   "pygments_lexer": "ipython3",
   "version": "3.10.2"
  }
 },
 "nbformat": 4,
 "nbformat_minor": 5
}
